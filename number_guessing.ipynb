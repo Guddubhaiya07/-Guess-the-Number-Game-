{
 "cells": [
  {
   "cell_type": "markdown",
   "id": "069f3dc3-3980-4cb3-bb06-6ba75473b2f7",
   "metadata": {},
   "source": [
    "##Number Guesing game "
   ]
  },
  {
   "cell_type": "code",
   "execution_count": 11,
   "id": "cc06fe8f-9179-4a29-82dd-2d5b21016cbb",
   "metadata": {},
   "outputs": [
    {
     "name": "stdin",
     "output_type": "stream",
     "text": [
      "Gussing the number  45\n"
     ]
    },
    {
     "name": "stdout",
     "output_type": "stream",
     "text": [
      "you guess lower value \n"
     ]
    },
    {
     "name": "stdin",
     "output_type": "stream",
     "text": [
      "Gussing the number  56\n"
     ]
    },
    {
     "name": "stdout",
     "output_type": "stream",
     "text": [
      "you guess lower value \n"
     ]
    },
    {
     "name": "stdin",
     "output_type": "stream",
     "text": [
      "Gussing the number  85\n"
     ]
    },
    {
     "name": "stdout",
     "output_type": "stream",
     "text": [
      "you guess lower value \n"
     ]
    },
    {
     "name": "stdin",
     "output_type": "stream",
     "text": [
      "Gussing the number  100\n"
     ]
    },
    {
     "name": "stdout",
     "output_type": "stream",
     "text": [
      "You guess grater number \n"
     ]
    },
    {
     "name": "stdin",
     "output_type": "stream",
     "text": [
      "Gussing the number  48\n"
     ]
    },
    {
     "name": "stdout",
     "output_type": "stream",
     "text": [
      "you guess lower value \n"
     ]
    },
    {
     "name": "stdin",
     "output_type": "stream",
     "text": [
      "Gussing the number  65\n"
     ]
    },
    {
     "name": "stdout",
     "output_type": "stream",
     "text": [
      "you guess lower value \n"
     ]
    },
    {
     "name": "stdin",
     "output_type": "stream",
     "text": [
      "Gussing the number  82\n"
     ]
    },
    {
     "name": "stdout",
     "output_type": "stream",
     "text": [
      "Oops sorry, The number is 82 better luck next time\n"
     ]
    }
   ],
   "source": [
    "import random\n",
    "num=random.randint(1,100)\n",
    "Gussing=7\n",
    "count=0\n",
    "\n",
    "while Gussing>count:\n",
    "    count +=1\n",
    "    guess=int(input(\"you Gussing the number range (1,100)\"))\n",
    "  \n",
    "    if guess==num:\n",
    "        print(f'The number is {guess} and you found it right !! in the {count} attempt')\n",
    "        break\n",
    "    elif count >=Gussing and guess != num:\n",
    "        print(f'Oops sorry, The number is {guess} better luck next time')\n",
    "        \n",
    "    elif guess >= num:\n",
    "        print(\"You guess grater number \")\n",
    "        \n",
    "    elif guess <= num:\n",
    "        print(\"you guess lower value \")\n",
    "    else:\n",
    "        print(\"You guess out of range \")\n",
    "        \n",
    "\n",
    "        "
   ]
  },
  {
   "cell_type": "code",
   "execution_count": null,
   "id": "4ae12f97-bed7-4015-9b01-f08ed7489d5d",
   "metadata": {},
   "outputs": [],
   "source": []
  }
 ],
 "metadata": {
  "kernelspec": {
   "display_name": "Python 3 (ipykernel)",
   "language": "python",
   "name": "python3"
  },
  "language_info": {
   "codemirror_mode": {
    "name": "ipython",
    "version": 3
   },
   "file_extension": ".py",
   "mimetype": "text/x-python",
   "name": "python",
   "nbconvert_exporter": "python",
   "pygments_lexer": "ipython3",
   "version": "3.11.7"
  },
  "widgets": {
   "application/vnd.jupyter.widget-state+json": {
    "state": {},
    "version_major": 2,
    "version_minor": 0
   }
  }
 },
 "nbformat": 4,
 "nbformat_minor": 5
}
